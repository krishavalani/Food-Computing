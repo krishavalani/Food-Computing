{
 "cells": [
  {
   "cell_type": "code",
   "execution_count": 3,
   "metadata": {},
   "outputs": [],
   "source": [
    "import json\n",
    "import spacy\n",
    "from spacy.tokens import DocBin\n",
    "from tqdm import tqdm\n",
    "\n",
    "nlp = spacy.blank('en')\n",
    "db = DocBin()"
   ]
  },
  {
   "cell_type": "code",
   "execution_count": 4,
   "metadata": {},
   "outputs": [
    {
     "name": "stderr",
     "output_type": "stream",
     "text": [
      " 55%|█████▍    | 53/97 [00:00<00:00, 524.13it/s]"
     ]
    },
    {
     "name": "stdout",
     "output_type": "stream",
     "text": [
      "Skipping entity\n",
      "Skipping entity\n",
      "Skipping entity\n",
      "Skipping entity\n",
      "Skipping entity\n",
      "Skipping entity\n",
      "Skipping entity\n",
      "Skipping entity\n",
      "Skipping entity\n",
      "Skipping entity\n"
     ]
    },
    {
     "name": "stderr",
     "output_type": "stream",
     "text": [
      "100%|██████████| 97/97 [00:00<00:00, 428.22it/s]\n"
     ]
    }
   ],
   "source": [
    "# first, the training data is converted into spaCy's required format (saved in the db DocBin)\n",
    "with open(\"indian_food_ann_train.json\") as f:\n",
    "\tdata = json.load(f)\n",
    "\n",
    "# taken from Prantika's training code\n",
    "for text, ann in tqdm(data['annotations']):\n",
    "  doc = nlp.make_doc(text)\n",
    "  ents = []\n",
    "  for start, end, label in ann['entities']:\n",
    "    span = doc.char_span(start, end, label=label, alignment_mode='contract')\n",
    "    if span is None:\n",
    "      print(\"Skipping entity\")\n",
    "    else:\n",
    "      ents.append(span)\n",
    "  doc.ents = ents\n",
    "  db.add(doc)\n",
    "\n",
    "  db.to_disk(\"./food_train_data.spacy\")"
   ]
  },
  {
   "cell_type": "code",
   "execution_count": 5,
   "metadata": {},
   "outputs": [
    {
     "name": "stdout",
     "output_type": "stream",
     "text": [
      "\u001b[38;5;2m✔ Created output directory: output\u001b[0m\n",
      "\u001b[38;5;4mℹ Saving to output directory: output\u001b[0m\n",
      "\u001b[38;5;4mℹ Using GPU: 0\u001b[0m\n",
      "\u001b[1m\n",
      "=========================== Initializing pipeline ===========================\u001b[0m\n",
      "\u001b[38;5;2m✔ Initialized pipeline\u001b[0m\n",
      "\u001b[1m\n",
      "============================= Training pipeline =============================\u001b[0m\n",
      "\u001b[38;5;4mℹ Pipeline: ['tok2vec', 'ner']\u001b[0m\n",
      "\u001b[38;5;4mℹ Initial learn rate: 0.001\u001b[0m\n",
      "E    #       LOSS TOK2VEC  LOSS NER  ENTS_F  ENTS_P  ENTS_R  SCORE \n",
      "---  ------  ------------  --------  ------  ------  ------  ------\n",
      "  0       0          0.00     51.53    0.00    0.00    0.00    0.00\n",
      "\u001b[38;5;3m⚠ Aborting and saving the final best model. Encountered exception:\n",
      "PermissionError(13, 'Access is denied')\u001b[0m\n"
     ]
    },
    {
     "name": "stderr",
     "output_type": "stream",
     "text": [
      "Traceback (most recent call last):\n",
      "  File \"C:\\Program Files\\Python310\\lib\\runpy.py\", line 196, in _run_module_as_main\n",
      "    return _run_code(code, main_globals, None,\n",
      "  File \"C:\\Program Files\\Python310\\lib\\runpy.py\", line 86, in _run_code\n",
      "    exec(code, run_globals)\n",
      "  File \"c:\\Users\\santr\\My Drive (santripta.sharma_ug24@ashoka.edu.in)\\Academic Work\\Sem5\\FoodComp\\spaCy-env\\lib\\site-packages\\spacy\\__main__.py\", line 4, in <module>\n",
      "    setup_cli()\n",
      "  File \"c:\\Users\\santr\\My Drive (santripta.sharma_ug24@ashoka.edu.in)\\Academic Work\\Sem5\\FoodComp\\spaCy-env\\lib\\site-packages\\spacy\\cli\\_util.py\", line 87, in setup_cli\n",
      "    command(prog_name=COMMAND)\n",
      "  File \"c:\\Users\\santr\\My Drive (santripta.sharma_ug24@ashoka.edu.in)\\Academic Work\\Sem5\\FoodComp\\spaCy-env\\lib\\site-packages\\click\\core.py\", line 1157, in __call__\n",
      "    return self.main(*args, **kwargs)\n",
      "  File \"c:\\Users\\santr\\My Drive (santripta.sharma_ug24@ashoka.edu.in)\\Academic Work\\Sem5\\FoodComp\\spaCy-env\\lib\\site-packages\\typer\\core.py\", line 778, in main\n",
      "    return _main(\n",
      "  File \"c:\\Users\\santr\\My Drive (santripta.sharma_ug24@ashoka.edu.in)\\Academic Work\\Sem5\\FoodComp\\spaCy-env\\lib\\site-packages\\typer\\core.py\", line 216, in _main\n",
      "    rv = self.invoke(ctx)\n",
      "  File \"c:\\Users\\santr\\My Drive (santripta.sharma_ug24@ashoka.edu.in)\\Academic Work\\Sem5\\FoodComp\\spaCy-env\\lib\\site-packages\\click\\core.py\", line 1688, in invoke\n",
      "    return _process_result(sub_ctx.command.invoke(sub_ctx))\n",
      "  File \"c:\\Users\\santr\\My Drive (santripta.sharma_ug24@ashoka.edu.in)\\Academic Work\\Sem5\\FoodComp\\spaCy-env\\lib\\site-packages\\click\\core.py\", line 1434, in invoke\n",
      "    return ctx.invoke(self.callback, **ctx.params)\n",
      "  File \"c:\\Users\\santr\\My Drive (santripta.sharma_ug24@ashoka.edu.in)\\Academic Work\\Sem5\\FoodComp\\spaCy-env\\lib\\site-packages\\click\\core.py\", line 783, in invoke\n",
      "    return __callback(*args, **kwargs)\n",
      "  File \"c:\\Users\\santr\\My Drive (santripta.sharma_ug24@ashoka.edu.in)\\Academic Work\\Sem5\\FoodComp\\spaCy-env\\lib\\site-packages\\typer\\main.py\", line 683, in wrapper\n",
      "    return callback(**use_params)  # type: ignore\n",
      "  File \"c:\\Users\\santr\\My Drive (santripta.sharma_ug24@ashoka.edu.in)\\Academic Work\\Sem5\\FoodComp\\spaCy-env\\lib\\site-packages\\spacy\\cli\\train.py\", line 54, in train_cli\n",
      "    train(config_path, output_path, use_gpu=use_gpu, overrides=overrides)\n",
      "  File \"c:\\Users\\santr\\My Drive (santripta.sharma_ug24@ashoka.edu.in)\\Academic Work\\Sem5\\FoodComp\\spaCy-env\\lib\\site-packages\\spacy\\cli\\train.py\", line 84, in train\n",
      "    train_nlp(nlp, output_path, use_gpu=use_gpu, stdout=sys.stdout, stderr=sys.stderr)\n",
      "  File \"c:\\Users\\santr\\My Drive (santripta.sharma_ug24@ashoka.edu.in)\\Academic Work\\Sem5\\FoodComp\\spaCy-env\\lib\\site-packages\\spacy\\training\\loop.py\", line 135, in train\n",
      "    raise e\n",
      "  File \"c:\\Users\\santr\\My Drive (santripta.sharma_ug24@ashoka.edu.in)\\Academic Work\\Sem5\\FoodComp\\spaCy-env\\lib\\site-packages\\spacy\\training\\loop.py\", line 123, in train\n",
      "    save_checkpoint(is_best_checkpoint)\n",
      "  File \"c:\\Users\\santr\\My Drive (santripta.sharma_ug24@ashoka.edu.in)\\Academic Work\\Sem5\\FoodComp\\spaCy-env\\lib\\site-packages\\spacy\\training\\loop.py\", line 84, in save_checkpoint\n",
      "    shutil.rmtree(output_path / DIR_MODEL_BEST)\n",
      "  File \"C:\\Program Files\\Python310\\lib\\shutil.py\", line 749, in rmtree\n",
      "    return _rmtree_unsafe(path, onerror)\n",
      "  File \"C:\\Program Files\\Python310\\lib\\shutil.py\", line 614, in _rmtree_unsafe\n",
      "    _rmtree_unsafe(fullname, onerror)\n",
      "  File \"C:\\Program Files\\Python310\\lib\\shutil.py\", line 623, in _rmtree_unsafe\n",
      "    onerror(os.rmdir, path, sys.exc_info())\n",
      "  File \"C:\\Program Files\\Python310\\lib\\shutil.py\", line 621, in _rmtree_unsafe\n",
      "    os.rmdir(path)\n",
      "PermissionError: [WinError 5] Access is denied: 'output\\\\model-best\\\\ner'\n"
     ]
    }
   ],
   "source": [
    "!python -m spacy train config.cfg --output ./output --paths.train ./food_train_data.spacy --paths.dev ./food_train_data.spacy --gpu-id 0"
   ]
  }
 ],
 "metadata": {
  "kernelspec": {
   "display_name": "spaCy-env",
   "language": "python",
   "name": "python3"
  },
  "language_info": {
   "codemirror_mode": {
    "name": "ipython",
    "version": 3
   },
   "file_extension": ".py",
   "mimetype": "text/x-python",
   "name": "python",
   "nbconvert_exporter": "python",
   "pygments_lexer": "ipython3",
   "version": "3.10.7"
  }
 },
 "nbformat": 4,
 "nbformat_minor": 2
}
