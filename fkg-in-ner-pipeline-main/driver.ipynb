{
 "cells": [
  {
   "cell_type": "code",
   "execution_count": 32,
   "metadata": {},
   "outputs": [],
   "source": [
    "from models import spacy_base_en\n",
    "from ner_core import NER"
   ]
  },
  {
   "cell_type": "code",
   "execution_count": 33,
   "metadata": {},
   "outputs": [],
   "source": [
    "ner = NER(spacy_base_en(\"small\"), use_ruler = False)"
   ]
  },
  {
   "cell_type": "code",
   "execution_count": 34,
   "metadata": {},
   "outputs": [
    {
     "name": "stdout",
     "output_type": "stream",
     "text": [
      "{'archanas-kitchen': [\"The Onion Vada Sambar Recipe is a simple healthy and nutritious recipe of the urad dal vada that is pan fried in a paniyaram pan.  In this recipe, I have made the Vada’s healthy by using the Kuzhi Paniyaram pan as opposed to the traditional method of deep frying the vada's.\", \"Serve the delicious Onion Vada's with a Mixed Vegetable Sambar topped with finely chopped onions.\", 'To begin making the Onion Vada Sambar Recipe;  we will first soak the dal for about 3 hours.\\n\\nUsing a strainer, strain all the excess water from the urad dal. We need to use very little water to grind the urad dal, so that you can shape them well if you are deep frying.\\n\\nNext we will grind the dal, along with ginger and green chillies using a food processor or a mixer grinder into a very smooth batter. Make sure add very little water while grinding the dal to make a smooth batter. Transfer the batter to a bowl. \\n\\nAdd in the chopped onions, coriander leaves into the batter. Stir well to combine the ingredients well into the vada batter.\\n\\nNext we will preheat the Kuzhi Paniyaram Pan and add in a little oil into each cavity; once the pan is well heated spoon the mini onion vada mixture into each of the cavities. Cover the pan and allow it to steam until you notice that the top looks cooked. \\n\\nAfter a couple minutes of steaming of notice the top part of the mini onion vada looks cooked. At this point you could add a little more oil and then flip the vada so it can get cooked and crisp from both sides. This time, allow it to cook without the cover.\\n\\nTransfer the Mini Onion Vadas to a platter and continue the same process with the remaining batter.\\n\\nTo make the Vengaya Sambar recipe, pressure cook the toor dal along with 2 cups of water for 3 to 4 whistles and turn off the heat. Once the pressure releases naturally, open the cooking and mash the toor dal until soft. Keep aside.\\n\\nInto a pressure cooker; add the tamarind water, onions, radish, carrot, sambar powder and salt. Pressure cook for 2 whistles and turn off the heat.\\n\\nAdd the cooker toor dal into the sambar water and bring to a brisk boil. Adjust the consistency by adding a little water if required.\\n\\nIn a small tadka pan, heat oil over medium heat. Add mustard seeds and red chillies and allow it to crackle. Stir in the asafoetida and curry leaves. Pour this over the simmering vengaya sambar. Check the salt and spices of the vengaya sambar and adjust to suit your taste. Once done, turn off the heat , stir in the chopped coriander leaves and serve.\\n\\nTo serve the Onion Vada Sambar, place the vadas in a bowl or a platter, pour in some Vengaya Sambar and sprinkle some chopped onions and serve hot.'], 'bharatz-kitchen': ['I know that I haven’t been posting recipes lately and its been few long weeks but since work load have been too much lately I’m glad me and my team have now developed few awesome recipes like biryani’s and gol gappe and what not and I’m excited to videos soon so here is the first edition of the tale i.e Chicken Biryani Hyderabad Style I hope you like the recipe….', 'INGREDIENTS TO MAKE THE BRINE:\\n\\n1 Liter Water\\n\\n30 Gms Salt or 1.5 Tbsp\\n\\n\\n1 Tbsp Vineger', 'INGREDIENTS TO MAKE THE RECIPE:\\r\\n\\r\\n \\r\\n\\r\\n400 Gms Chicken (cut into 16 pieces)\\r\\n\\r\\n*Whole Spice Mix\\r\\n\\r\\n1.5 tsp Red Chili Powder\\r\\n\\r\\n2 tsp Salt\\r\\n\\r\\n½ tsp Turmeric / Haldi Powder\\r\\n\\r\\n1.5 Tbsp Ginger Garlic Paste\\r\\n\\r\\n** Coriander and Mint Paste\\r\\n\\r\\n1 Tbsp lemon Juice\\r\\n\\r\\n2 Brown Onions\\r\\n\\r\\n1/3 Cup Oil\\r\\n\\r\\n1/3 Cup Curd\\r\\n\\r\\n*** Saffron and Milk Mix\\r\\n\\r\\n**** Ghee and Biryani Masala Mix\\r\\n\\r\\n½ Cup Bhaap (i.e. the water in which your rice is boiling)\\r\\n\\r\\n350 – 400  Gms Basmati Rice (or any long grain rice)\\r\\n\\r\\n \\r\\n\\r\\n \\r\\n\\r\\n*INGREDIENTS TO MAKE WHOLE SPICE MIX:\\r\\n\\r\\n \\r\\n\\r\\n2 Cinnamon Sticks or Daal Chini\\r\\n\\r\\n4 Black Peppercorns or Kali Mirch Sabut\\r\\n\\r\\n4 Kebab Chini or Cubeb (optional)\\r\\n\\r\\n4 Cloves or Laung\\r\\n\\r\\n¼ tsp Caraway Seeds or Shahi Jeera\\r\\n\\r\\n4 Green Cardamoms or Choti Elaichi\\r\\n\\r\\n \\r\\n\\r\\n**INGREDIENTS TO MAKE CORIANDER AND MINT PASTE:\\r\\n\\r\\n \\r\\n\\r\\n60 Gms Coriander leaves\\r\\n\\r\\n40 Gms Mint Leaves\\r\\n\\r\\n2 Green Chilies\\r\\n\\r\\n1-Inch Ginger\\r\\n\\r\\n5 Cloves Garlic\\r\\n\\r\\n1/8 Cup Water\\r\\n\\r\\n \\r\\n\\r\\n***INGREDIENTS TO MAKE SAFFRON AND MILK MIX\\r\\n\\r\\n1/4 Cup Warm Milk\\r\\n\\r\\nPinch or Saffron\\r\\n\\r\\n \\r\\n\\r\\n****INGREDIENTS TO MAKE GHEE AND BIRYANI MASALA MIX\\r\\n\\r\\n \\r\\n\\r\\n2 Tbsp Ghee\\r\\n\\r\\n2 tsp Biryani Masala (depending on how spicy you like )\\r\\n\\r\\n'], 'zayka-ka-tadka': ['Moong Dal Idli | Instant Idli is a mouth-watering recipe that is full of proteins and you can have it as breakfast, lunch, or dinner. We prepare varieties of idli and for sure moong dal idli is not popular but when you will prepare this, you would love to have this healthy idli. It is a very nutritious dish made with moong dal which is rich in proteins and fibers. You can make this idli instantly when you are running out of idli batter. Try this recipe and share your experience.', 'Ingredients\\r\\nYellow Moong Dal/ Yellow Lentils – 1 cup\\r\\nFresh Curd/Dahi – 2 tablespoon\\r\\nCarrot - 1/2 no grated\\r\\nCoriander leaves – 1 teaspoon\\r\\nGinger-Green Chilli paste – 1 teaspoon\\r\\nGhee/Oil – 2 tablespoon\\r\\nMustard seeds/Rai - 1 teaspoon\\r\\nUrad dal/Black Gram without skin – 1 teaspoon\\r\\nCurry leaves – 5/6 leaves\\r\\nAsafoetida/Hing – 1 pinch (optional)\\r\\nFruit Salt (ENO) - a pinch\\r\\nSalt – to taste', 'Instructions\\r\\nWash and soak yellow lentils for two hours. Then strain out the water.\\r\\nNow, put the soaked yellow lentils in a mixer jar. Add curd, salt and very less amount of water to it and make a smooth paste. The batter should be of thick consistency.\\r\\nPlace the idli steamer on a medium flame. Add 1 glass of water in it and allow it to boil. Place the idli stand in the steamer.\\r\\nNow add ginger-green chilli paste, fresh coriander leaves, grated carrot and salt to taste to the batter. Mix well.\\r\\nTill then, heat up a tadka pan. Add 1 tablespoon of oil in it. Once the oil gets hot, add mustard seeds, black gram without skin, curry leaves and asafoetida.\\r\\nAdd the tempering to the batter. Grease the idli moulds with oil.\\r\\nNow add fruit salt (ENO) in the batter and mix till the batter become frothy.\\r\\nPour the batter in the idli moulds and then place the moulds in the idli steamer. Cover the lid and steam for 10-15 minutes on a medium flame.\\r\\nAfter 10-15 minutes, turn off the flame and check one of the idlis with a knife. If the knife comes out without sticking, the idli is ready.\\r\\nAllow it to cool for 15 minutes. Grease knife with a little oil and then remove the idlis from the moulds.\\r\\nServe yummy idlis with ketchup, green chutney, or coconut chutney.\\r\\nServings : 2\\r\\nReady in : 140 minutes\\r\\nSpecial Category : Healthy Food\\r\\nRecipe Type : Breakfast, Dinner, Lunch']}\n"
     ]
    }
   ],
   "source": [
    "from utils import re2pat\n",
    "import json\n",
    "\n",
    "with open(\"sample_texts.json\") as f:\n",
    "\ttexts = json.load(f)\n",
    "\n",
    "print(texts)"
   ]
  },
  {
   "cell_type": "markdown",
   "metadata": {},
   "source": [
    "### spaCy default pipeline for English - small"
   ]
  },
  {
   "cell_type": "code",
   "execution_count": 35,
   "metadata": {},
   "outputs": [
    {
     "name": "stdout",
     "output_type": "stream",
     "text": [
      "archanas-kitchen\n",
      "{'Vada': 'PERSON', 'first': 'ORDINAL', 'about 3 hours': 'TIME', 'the Kuzhi Paniyaram Pan': 'ORG', 'a couple minutes': 'TIME', '2': 'CARDINAL', '3': 'CARDINAL', 'Vada Sambar': 'PERSON', 'Vengaya Sambar': 'FAC'}\n",
      "9\n",
      "bharatz-kitchen\n",
      "{'biryani': 'PERSON', 'first': 'ORDINAL', 'i.e': 'NORP', '1': 'CARDINAL', '30': 'CARDINAL', 'Gms Salt': 'ORG', '1.5 Tbsp\\n\\n\\n1': 'QUANTITY', 'RECIPE': 'ORG', '400': 'CARDINAL', '16': 'CARDINAL', 'Spice Mix': 'PERSON', '1.5': 'CARDINAL', '2': 'CARDINAL', 'Salt': 'PERSON', 'Tbsp Ginger Garlic Paste': 'PERSON', 'Mint Paste': 'ORG', 'Juice': 'ORG', '1/3': 'CARDINAL', 'Milk Mix': 'PERSON', 'Biryani Masala Mix': 'PERSON', '350': 'CARDINAL', 'Gms Basmati Rice': 'PRODUCT', '2 Cinnamon Sticks': 'PERSON', '4': 'CARDINAL', 'Kali Mirch Sabut': 'ORG', 'Cubeb': 'ORG', 'Laung': 'GPE', 'Seeds': 'PERSON', 'Shahi Jeera': 'PERSON', '60': 'CARDINAL', '40': 'CARDINAL', '1-Inch': 'QUANTITY', '5': 'CARDINAL', 'MIX': 'ORG', '1/4': 'CARDINAL', 'Saffron': 'ORG', 'BIRYANI': 'PERSON', '2 Tbsp Ghee': 'DATE', 'Biryani Masala': 'PERSON'}\n",
      "39\n",
      "zayka-ka-tadka\n",
      "{'Moong Dal Idli': 'PERSON', 'Idli': 'PERSON', 'Yellow Moong': 'PERSON', 'Yellow Lentils': 'PERSON', '1 cup': 'QUANTITY', 'Curd/Dahi': 'ORG', '2 tablespoon': 'QUANTITY', 'Coriander': 'PERSON', 'Ginger-Green Chilli': 'PERSON', '1 teaspoon': 'TIME', 'Ghee/Oil': 'ORG', 'Mustard': 'PERSON', 'Curry': 'PERSON', '5/6': 'CARDINAL', 'Asafoetida': 'GPE', '1': 'CARDINAL', 'Fruit Salt': 'PERSON', 'Salt': 'PERSON', 'two hours': 'TIME', '1 tablespoon': 'TIME', 'ENO': 'ORG', '10-15 minutes': 'TIME', 'Allow': 'PERSON', '15 minutes': 'TIME', '2\\r\\nReady': 'QUANTITY', '140 minutes': 'TIME', 'Dinner': 'GPE', 'Lunch': 'NORP'}\n",
      "28\n"
     ]
    }
   ],
   "source": [
    "small = {}\n",
    "\n",
    "for key in texts:\n",
    "\tprint(key)\n",
    "\tfor text in texts[key]:\n",
    "\t\tner.eval(text)\n",
    "\tprint(ner.entities)\n",
    "\tprint(len(ner.entities))\n",
    "\tsmall[key] = ner.entities\n",
    "\n",
    "\tner = NER(spacy_base_en(\"small\"), use_ruler = False)"
   ]
  },
  {
   "cell_type": "markdown",
   "metadata": {},
   "source": [
    "### Insights from spaCy's base en_small model\n",
    "- Quantities & Durations of time are well-understood\n",
    "\t- Besides using NOUN - VERB dependencies to identify food items and cooking methods in POS/dependency parsing later, we could possibly exploit DURATION - VERB or QUANTITIES - NOUN (ADVERBS - NOUN) relationships to identify food items and cooking methods more reliably. (to be tested)\n",
    "- Food items, even of Indian origin, are sometimes recognised as named entities, but highly variable with how they are capitalised (TODO: manually record % caught in example texts)\n",
    "\t- Most commonly as PERSON, sometimes as ORG, and rarely as GPE or PRODUCT\n",
    "\n"
   ]
  },
  {
   "cell_type": "markdown",
   "metadata": {},
   "source": [
    "### spaCy default pipeline for English - Large\n",
    "`$ python -m spacy download en_core_web_lg`"
   ]
  },
  {
   "cell_type": "code",
   "execution_count": 36,
   "metadata": {},
   "outputs": [
    {
     "name": "stdout",
     "output_type": "stream",
     "text": [
      "archanas-kitchen\n",
      "{'Vada Sambar Recipe': 'PERSON', 'the urad dal vada': 'ORG', 'paniyaram pan': 'ORG', 'Vada': 'ORG', 'Kuzhi Paniyaram': 'ORG', 'vada': 'GPE', \"Onion Vada's\": 'ORG', 'Sambar': 'PERSON', 'first': 'ORDINAL', 'about 3 hours': 'TIME', 'the Kuzhi Paniyaram Pan': 'ORG', 'a couple minutes': 'TIME', 'toor dal': 'ORG', '2': 'CARDINAL', '3 to 4': 'CARDINAL', 'tadka': 'GPE', 'Vada Sambar': 'PERSON'}\n",
      "17\n",
      "bharatz-kitchen\n",
      "{'biryani': 'PERSON', 'gol gappe': 'PERSON', 'first': 'ORDINAL', 'Chicken Biryani': 'PERSON', '1': 'CARDINAL', '1.5 Tbsp': 'MONEY', 'Gms Chicken': 'PERSON', '16': 'CARDINAL', '1.5 tsp': 'QUANTITY', 'Red Chili Powder': 'FAC', 'Salt': 'GPE', '½ tsp': 'QUANTITY', 'Turmeric / Haldi Powder': 'WORK_OF_ART', 'Ginger Garlic Paste': 'PERSON', '2': 'CARDINAL', 'Curd': 'PERSON', 'Saffron': 'ORG', 'Biryani Masala Mix\\r\\n\\r\\n': 'PERSON', 'Bhaap': 'PERSON', '350': 'CARDINAL', '400': 'CARDINAL', 'Gms Basmati Rice': 'PERSON', 'Cinnamon Sticks': 'PERSON', 'Daal Chini': 'ORG', '4': 'CARDINAL', 'Kali Mirch Sabut': 'PERSON', 'Kebab Chini': 'PERSON', 'Cubeb': 'PRODUCT', 'Shahi Jeera': 'PERSON', 'Green Cardamoms': 'PERSON', 'Choti Elaichi': 'PERSON', 'MINT PASTE': 'ORG', '40': 'CARDINAL', 'Gms Mint Leaves': 'WORK_OF_ART', 'Green Chilies': 'GPE', '1-Inch': 'QUANTITY', 'Cloves Garlic\\r\\n\\r\\n1/8': 'PERSON', 'MASALA MIX': 'ORG', 'Tbsp Ghee': 'PERSON', 'Biryani Masala': 'PERSON'}\n",
      "40\n",
      "zayka-ka-tadka\n",
      "{'Moong Dal': 'PERSON', 'Idli': 'GPE', 'moong dal idli': 'PERSON', 'moong dal': 'ORG', '1 cup\\r\\nFresh': 'QUANTITY', '2': 'CARDINAL', '1': 'CARDINAL', '1 teaspoon\\r\\nGhee/Oil': 'QUANTITY', '5/6': 'CARDINAL', 'Asafoetida': 'PERSON', 'Salt': 'GPE', 'two hours': 'TIME', 'tadka': 'GPE', '10-15 minutes': 'TIME', '15 minutes': 'TIME', '140 minutes': 'TIME'}\n",
      "16\n"
     ]
    }
   ],
   "source": [
    "ner = NER(spacy_base_en(\"large\"), use_ruler = False)\n",
    "\n",
    "lg = {}\n",
    "\n",
    "for key in texts:\n",
    "\tprint(key)\n",
    "\tfor text in texts[key]:\n",
    "\t\tner.eval(text)\n",
    "\tprint(ner.entities)\n",
    "\tprint(len(ner.entities))\n",
    "\tlg[key] = ner.entities\n",
    "\n",
    "\tner = NER(spacy_base_en(\"large\"), use_ruler = False)"
   ]
  },
  {
   "cell_type": "markdown",
   "metadata": {},
   "source": [
    "### spaCy default pipeline for English - Transformer (RoBERTa)\n",
    "\n",
    "`$ python -m spacy download en_core_web_trf`"
   ]
  },
  {
   "cell_type": "code",
   "execution_count": 37,
   "metadata": {},
   "outputs": [
    {
     "name": "stdout",
     "output_type": "stream",
     "text": [
      "3.7.2\n"
     ]
    }
   ],
   "source": [
    "import spacy\n",
    "print(spacy.__version__)"
   ]
  },
  {
   "cell_type": "code",
   "execution_count": 38,
   "metadata": {},
   "outputs": [
    {
     "name": "stdout",
     "output_type": "stream",
     "text": [
      "archanas-kitchen\n",
      "{'The Onion Vada Sambar Recipe': 'WORK_OF_ART', 'Kuzhi Paniyaram pan': 'PRODUCT', 'first': 'ORDINAL', 'about 3 hours': 'TIME', 'the Kuzhi Paniyaram Pan': 'PRODUCT', 'a couple minutes': 'TIME', 'the Mini Onion Vadas': 'PRODUCT', '2 cups': 'QUANTITY', '3 to 4 whistles': 'QUANTITY', '2 whistles': 'QUANTITY', 'the Onion Vada Sambar': 'PRODUCT'}\n",
      "11\n",
      "bharatz-kitchen\n",
      "{'few long weeks': 'DATE', 'first': 'ORDINAL', ':\\n\\n': 'QUANTITY', '1 Liter': 'QUANTITY', '30 Gms': 'QUANTITY', '1.5 Tbsp': 'QUANTITY', '1 Tbsp': 'QUANTITY', '400 Gms': 'QUANTITY', '16': 'CARDINAL', '1.5 tsp': 'QUANTITY', '2 tsp': 'QUANTITY', '½ tsp': 'QUANTITY', '2': 'CARDINAL', '1/3 Cup': 'QUANTITY', '350 – 400  ': 'QUANTITY', '4': 'CARDINAL', '60 Gms': 'QUANTITY', '40': 'CARDINAL', '1-Inch': 'QUANTITY', '5': 'CARDINAL', '1/8 Cup': 'QUANTITY', '1/4 Cup': 'QUANTITY', '2 Tbsp': 'QUANTITY'}\n",
      "23\n",
      "zayka-ka-tadka\n",
      "{'moong dal idli': 'PRODUCT', '1 cup': 'QUANTITY', '2 tablespoon': 'QUANTITY', '1/2': 'CARDINAL', '1 teaspoon': 'QUANTITY', '5/6': 'CARDINAL', '1 pinch': 'QUANTITY', 'two hours': 'DATE', '1': 'CARDINAL', '1 tablespoon': 'QUANTITY', '10-15 minutes': 'TIME', '15 minutes': 'TIME', '2': 'CARDINAL', '140 minutes': 'TIME'}\n",
      "14\n"
     ]
    }
   ],
   "source": [
    "import spacy_transformers\n",
    "import spacy_curated_transformers\n",
    "\n",
    "ner = NER(spacy_base_en(\"transformer\"), use_ruler = False)\n",
    "\n",
    "trf = {}\n",
    "\n",
    "for key in texts:\n",
    "\tprint(key)\n",
    "\tfor text in texts[key]:\n",
    "\t\tner.eval(text)\n",
    "\tprint(ner.entities)\n",
    "\tprint(len(ner.entities))\n",
    "\ttrf[key] = ner.entities\n",
    "\n",
    "\tner = NER(spacy_base_en(\"transformer\"), use_ruler = False)"
   ]
  },
  {
   "cell_type": "markdown",
   "metadata": {},
   "source": []
  },
  {
   "cell_type": "markdown",
   "metadata": {},
   "source": [
    "### Trained model"
   ]
  },
  {
   "cell_type": "code",
   "execution_count": 39,
   "metadata": {},
   "outputs": [
    {
     "name": "stdout",
     "output_type": "stream",
     "text": [
      "archanas-kitchen\n",
      "{'Onion': 'DISH', 'Sambar': 'UTENSIL', 'simple': 'UTENSIL', 'urad dal': 'INGREDIENT', 'paniyaram pan': 'UTENSIL', 'Kuzhi Paniyaram pan': 'UTENSIL', 'vada': 'INGREDIENT', \"'s\": 'METHOD', 'Mixed': 'UTENSIL', 'onions.': 'INGREDIENT', ';': 'INGREDIENT', 'soak': 'METHOD', 'dal': 'UTENSIL', 'strainer': 'UTENSIL', 'urad dal.': 'INGREDIENT', 'ginger': 'INGREDIENT', 'green chillies': 'INGREDIENT', 'batter': 'DISH', 'add': 'METHOD', 'batter.': 'INGREDIENT', 'Add': 'METHOD', 'onions': 'INGREDIENT', 'coriander leaves': 'INGREDIENT', 'Stir': 'METHOD', 'Kuzhi Paniyaram': 'UTENSIL', 'Pan': 'METHOD', 'pan': 'UTENSIL', 'Cover': 'METHOD', 'couple minutes of': 'TIME', 'onion': 'INGREDIENT', 'oil': 'INGREDIENT', 'flip': 'METHOD', 'platter': 'DISH', '2': 'MEAUREMENT', '3 to 4 whistles and': 'TIME', 'pressure': 'DISH', 'mash': 'METHOD', 'toor dal': 'INGREDIENT', 'pressure cooker': 'UTENSIL', 'water': 'INGREDIENT', 'radish': 'METHOD', 'carrot': 'INGREDIENT', 'sambar powder': 'INGREDIENT', 'salt': 'INGREDIENT', '2 whistles and': 'TIME', 'cooker toor': 'INGREDIENT', 'sambar': 'DISH', 'boil.': 'INGREDIENT', 'heat': 'METHOD', 'oil over': 'INGREDIENT', 'mustard seeds': 'INGREDIENT', 'red chillies': 'INGREDIENT', 'asafoetida': 'INGREDIENT', 'curry leaves': 'INGREDIENT', 'stir': 'METHOD', 'bowl': 'UTENSIL', 'sprinkle': 'METHOD'}\n",
      "57\n",
      "bharatz-kitchen\n",
      "{'glad': 'DISH', 'gappe': 'INGREDIENT', '….': 'INGREDIENT', '1 Liter': 'MEAUREMENT', 'Salt': 'INGREDIENT', '1.5': 'MEAUREMENT', '1': 'MEAUREMENT', 'Vineger': 'INGREDIENT', 'Gms': 'METHOD', 'cut': 'METHOD', 'pieces': 'UTENSIL', 'Mix': 'METHOD', 'Red': 'METHOD', '2': 'MEAUREMENT', 'Turmeric /': 'INGREDIENT', 'Haldi': 'MEAUREMENT', 'Ginger': 'INGREDIENT', 'Garlic': 'MEAUREMENT', 'Coriander': 'DISH', 'lemon Juice': 'INGREDIENT', 'Onions\\r\\n\\r\\n1/3': 'TIME', 'Ghee': 'INGREDIENT', 'Biryani Masala': 'INGREDIENT', 'Cup': 'METHOD', 'rice': 'INGREDIENT', '400  ': 'DISH', 'Rice': 'UTENSIL', 'SPICE MIX': 'INGREDIENT', ':': 'MEAUREMENT', '2 Cinnamon Sticks or': 'MEAUREMENT', 'Daal': 'UTENSIL', 'Chini\\r\\n\\r\\n': 'MEAUREMENT', '4 Black Peppercorns or': 'TIME', 'Kali': 'UTENSIL', '4 Kebab Chini or': 'TIME', 'Cubeb': 'UTENSIL', '4 Cloves or': 'TIME', 'Laung\\r\\n\\r\\n': 'TEMPERATURE', 'Caraway': 'MEAUREMENT', 'Seeds': 'UTENSIL', 'Shahi': 'UTENSIL', 'Jeera': 'APPLIANCE', '4 Green Cardamoms or': 'TIME', 'Choti': 'UTENSIL', 'CORIANDER': 'DISH', 'MINT PASTE': 'INGREDIENT', 'Coriander leaves': 'INGREDIENT', 'Green Chilies': 'INGREDIENT', 'MILK MIX': 'DISH', '1/4 Cup': 'UTENSIL', 'Milk\\r\\n\\r\\n': 'DISH', 'Pinch': 'METHOD', 'BIRYANI MASALA': 'DISH', 'MIX': 'METHOD', '2 Tbsp': 'METHOD', 'Ghee\\r\\n\\r\\n': 'INGREDIENT', 'Masala': 'UTENSIL', 'like': 'INGREDIENT'}\n",
      "58\n",
      "zayka-ka-tadka\n",
      "{'Moong Dal': 'METHOD', 'Idli': 'DISH', 'lunch': 'DISH', 'dinner.': 'INGREDIENT', 'idli': 'DISH', 'popular': 'DISH', 'idli batter': 'UTENSIL', 'Dal/': 'METHOD', 'Yellow Lentils': 'METHOD', '1': 'MEAUREMENT', 'Fresh Curd': 'METHOD', '–': 'METHOD', '2 tablespoon': 'MEAUREMENT', 'Coriander leaves': 'INGREDIENT', 'Ginger': 'INGREDIENT', 'Green': 'APPLIANCE', 'paste': 'UTENSIL', 'Oil': 'METHOD', 'Mustard seeds': 'INGREDIENT', 'Rai': 'METHOD', 'Urad dal/': 'INGREDIENT', 'Gram': 'METHOD', 'skin': 'UTENSIL', 'Curry leaves': 'INGREDIENT', '5/6 leaves': 'INGREDIENT', 'optional': 'INGREDIENT', 'Salt': 'INGREDIENT', 'ENO': 'INGREDIENT', 'pinch': 'UTENSIL', 'soak': 'METHOD', 'lentils': 'INGREDIENT', 'two': 'UTENSIL', 'water.': 'INGREDIENT', 'mixer': 'UTENSIL', 'salt': 'INGREDIENT', 'batter': 'UTENSIL', 'Add': 'METHOD', 'glass': 'INGREDIENT', 'boil.': 'INGREDIENT', 'steamer': 'UTENSIL', 'add': 'METHOD', 'ginger': 'INGREDIENT', 'green chilli': 'INGREDIENT', 'coriander leaves': 'INGREDIENT', 'carrot': 'INGREDIENT', 'batter.': 'INGREDIENT', 'Mix': 'METHOD', 'tadka pan': 'UTENSIL', '1 tablespoon': 'MEAUREMENT', 'oil': 'INGREDIENT', 'mustard seeds': 'INGREDIENT', 'black gram': 'INGREDIENT', 'curry leaves': 'INGREDIENT', 'idli moulds': 'UTENSIL', 'oil.': 'INGREDIENT', 'lid': 'UTENSIL', 'steam': 'METHOD', '10-15': 'TIME', 'knife': 'UTENSIL', 'ketchup': 'UTENSIL', 'green chutney': 'INGREDIENT', 'coconut chutney': 'DISH', '2\\r\\n': 'INGREDIENT', ': Healthy': 'DISH', 'Dinner': 'METHOD', 'Lunch': 'METHOD'}\n",
      "66\n"
     ]
    }
   ],
   "source": [
    "import spacy\n",
    "\n",
    "ner = NER(spacy.load(\"model-last\"), use_ruler = False)\n",
    "\n",
    "trained = {}\n",
    "\n",
    "for key in texts:\n",
    "\tprint(key)\n",
    "\tfor text in texts[key]:\n",
    "\t\tner.eval(text)\n",
    "\tprint(ner.entities)\n",
    "\tprint(len(ner.entities))\n",
    "\ttrained[key] = ner.entities\n",
    "\n",
    "\tner = NER(spacy.load(\"model-last\"), use_ruler = False)"
   ]
  }
 ],
 "metadata": {
  "kernelspec": {
   "display_name": "spaCy-env",
   "language": "python",
   "name": "python3"
  },
  "language_info": {
   "codemirror_mode": {
    "name": "ipython",
    "version": 3
   },
   "file_extension": ".py",
   "mimetype": "text/x-python",
   "name": "python",
   "nbconvert_exporter": "python",
   "pygments_lexer": "ipython3",
   "version": "3.11.3"
  },
  "orig_nbformat": 4
 },
 "nbformat": 4,
 "nbformat_minor": 2
}
